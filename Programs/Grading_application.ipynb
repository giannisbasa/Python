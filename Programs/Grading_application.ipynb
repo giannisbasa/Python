{
 "cells": [
  {
   "cell_type": "markdown",
   "metadata": {},
   "source": [
    "We will create a grading application in which we will have some courses and \n",
    "if each course's mark is greater than 35/100 then the exam is passed and we will \n",
    "calculate the average of them and we will print the overall grade of the exam."
   ]
  },
  {
   "cell_type": "code",
   "execution_count": 1,
   "metadata": {},
   "outputs": [
    {
     "name": "stdin",
     "output_type": "stream",
     "text": [
      "Input the course:  math\n",
      "Input the grade of the course:  50\n"
     ]
    },
    {
     "name": "stdout",
     "output_type": "stream",
     "text": [
      "\n",
      "\n"
     ]
    },
    {
     "name": "stdin",
     "output_type": "stream",
     "text": [
      "Input the course:  gym\n",
      "Input the grade of the course:  99\n"
     ]
    },
    {
     "name": "stdout",
     "output_type": "stream",
     "text": [
      "\n",
      "\n"
     ]
    },
    {
     "name": "stdin",
     "output_type": "stream",
     "text": [
      "Input the course:  histiry\n",
      "Input the grade of the course:  89\n"
     ]
    },
    {
     "name": "stdout",
     "output_type": "stream",
     "text": [
      "\n",
      "\n",
      "{'math': 50, 'gym': 99, 'histiry': 89}\n",
      "The average is:  79.33333333333333\n",
      "Grade is A\n"
     ]
    }
   ],
   "source": [
    "# we will use a dictionary in order to save the courses, but we will ask from the user to input the name of the course and the mark for each of them. \n",
    "dict1 = dict()\n",
    "\n",
    "for i in range(0,3):# the program is created for three courses\n",
    "    key = input('Input the course: ')\n",
    "    value = input('Input the grade of the course: ')\n",
    "    print('\\n')\n",
    "    dict1[key] = int(value)\n",
    "\n",
    "print(dict1)\n",
    "\n",
    "v = dict1.values()# we will use the values of the dictionary in order to check if the student has passed or not the exam.\n",
    "for i in v:\n",
    "    if i >= 35:\n",
    "        pass\n",
    "    else:\n",
    "        print('You failed in your exam.')\n",
    "        break\n",
    "\n",
    "# if the student has passed the exam then we will calculate the average and the overall grade of him/her        \n",
    "avg = sum(v)/len(v)\n",
    "print('The average is: ',avg)\n",
    "\n",
    "if avg > 35 and avg <= 59:\n",
    "    print('Grade is C')\n",
    "elif avg > 59 and avg <= 69:\n",
    "    print('Grade is B')\n",
    "elif avg > 69 and avg <= 100:\n",
    "    print('Grade is A')"
   ]
  },
  {
   "cell_type": "code",
   "execution_count": null,
   "metadata": {},
   "outputs": [],
   "source": []
  }
 ],
 "metadata": {
  "kernelspec": {
   "display_name": "Python 3",
   "language": "python",
   "name": "python3"
  },
  "language_info": {
   "codemirror_mode": {
    "name": "ipython",
    "version": 3
   },
   "file_extension": ".py",
   "mimetype": "text/x-python",
   "name": "python",
   "nbconvert_exporter": "python",
   "pygments_lexer": "ipython3",
   "version": "3.7.4"
  }
 },
 "nbformat": 4,
 "nbformat_minor": 4
}
