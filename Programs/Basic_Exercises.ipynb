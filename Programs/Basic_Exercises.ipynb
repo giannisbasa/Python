{
 "cells": [
  {
   "cell_type": "markdown",
   "metadata": {},
   "source": [
    "Exercise 1: Write a program that produces the following output:\n",
    "\n",
    "000000001\n",
    "000000022\n",
    "000000333\n",
    "000004444\n",
    "000055555\n",
    "000666666\n",
    "007777777\n",
    "088888888\n",
    "999999999"
   ]
  },
  {
   "cell_type": "code",
   "execution_count": 3,
   "metadata": {},
   "outputs": [
    {
     "name": "stdout",
     "output_type": "stream",
     "text": [
      "[0, 0, 0, 0, 0, 0, 0, 0, 1]\n",
      "[0, 0, 0, 0, 0, 0, 0, 2, 2]\n",
      "[0, 0, 0, 0, 0, 0, 3, 3, 3]\n",
      "[0, 0, 0, 0, 0, 4, 4, 4, 4]\n",
      "[0, 0, 0, 0, 5, 5, 5, 5, 5]\n",
      "[0, 0, 0, 6, 6, 6, 6, 6, 6]\n",
      "[0, 0, 7, 7, 7, 7, 7, 7, 7]\n",
      "[0, 8, 8, 8, 8, 8, 8, 8, 8]\n",
      "[9, 9, 9, 9, 9, 9, 9, 9, 9]\n"
     ]
    }
   ],
   "source": [
    "k = 0\n",
    "for i in range(1,10):\n",
    "    x = []\n",
    "    for j in range(9,0,-1):\n",
    "        if j > i:\n",
    "            x.append(k)\n",
    "        else:\n",
    "            x.append(i)\n",
    "    print(x)"
   ]
  },
  {
   "cell_type": "code",
   "execution_count": 3,
   "metadata": {},
   "outputs": [
    {
     "name": "stdout",
     "output_type": "stream",
     "text": [
      "000000001\n",
      "000000022\n",
      "000000333\n",
      "000004444\n",
      "000055555\n",
      "000666666\n",
      "007777777\n",
      "088888888\n",
      "999999999\n"
     ]
    }
   ],
   "source": [
    "k = '0'\n",
    "for i in range(1,10):\n",
    "    x = ''\n",
    "    for j in range(9,0,-1):\n",
    "        if j > i:\n",
    "            x += k\n",
    "        else:\n",
    "            x += str(i)\n",
    "    print(x)"
   ]
  },
  {
   "cell_type": "code",
   "execution_count": null,
   "metadata": {},
   "outputs": [],
   "source": []
  },
  {
   "cell_type": "markdown",
   "metadata": {},
   "source": [
    "Exercise 2: Write a program that ask the user to provide different numbers of \n",
    "            banknotes and coins, from 50e to 1e. Then output the total sum in\n",
    "            euros."
   ]
  },
  {
   "cell_type": "code",
   "execution_count": 15,
   "metadata": {},
   "outputs": [
    {
     "name": "stdin",
     "output_type": "stream",
     "text": [
      "Enter number of 50 euro banknotes:  10\n",
      "Enter number of 20 euro banknotes:  20\n",
      "Enter number of 10 euro banknotes:  30\n",
      "Enter number of 5 euro banknotes:  40\n",
      "Enter number of 2 euro coins:  50\n",
      "Enter number of 1 euro coins:  60\n"
     ]
    },
    {
     "name": "stdout",
     "output_type": "stream",
     "text": [
      "1560\n"
     ]
    }
   ],
   "source": [
    "x = int(input('Enter number of 50 euro banknotes: '))\n",
    "y = int(input('Enter number of 20 euro banknotes: '))\n",
    "z = int(input('Enter number of 10 euro banknotes: '))\n",
    "k = int(input('Enter number of 5 euro banknotes: '))\n",
    "l = int(input('Enter number of 2 euro coins: '))\n",
    "m = int(input('Enter number of 1 euro coins: '))\n",
    "\n",
    "x = 50*x\n",
    "y = 20*y\n",
    "z = 10*z\n",
    "k = 5*k\n",
    "l = 2*l\n",
    "m = 1*m\n",
    "\n",
    "money = [x,y,z,k,l,m]\n",
    "total = sum(money)\n",
    "print(total)"
   ]
  },
  {
   "cell_type": "code",
   "execution_count": null,
   "metadata": {},
   "outputs": [],
   "source": []
  },
  {
   "cell_type": "code",
   "execution_count": null,
   "metadata": {},
   "outputs": [],
   "source": []
  },
  {
   "cell_type": "markdown",
   "metadata": {},
   "source": [
    "Exercise 3: If we want to calculate the area of a triangle given given its sides, we canuse Heron's formula, which is: A = (1/4)*((a+b+c)*(-a-b+c)*(a-b+c)*(a+b-c))^(1/2)\n",
    "where a,b and c are the three sides of the triangle. Write a program that asks the user for the three sides and calculates its area. Note that to calculate the square root in Pyhton you have to include the line \n",
    "import math\n",
    "at the beginning of the program. Then, the square root of, say, r, is math.sqrt(r)"
   ]
  },
  {
   "cell_type": "code",
   "execution_count": 19,
   "metadata": {},
   "outputs": [],
   "source": [
    "import math"
   ]
  },
  {
   "cell_type": "code",
   "execution_count": 20,
   "metadata": {},
   "outputs": [
    {
     "name": "stdin",
     "output_type": "stream",
     "text": [
      "Give the a side of the triangle:  3\n",
      "Give the b side of the triangle:  4\n",
      "Give the c side of the triangle:  5\n"
     ]
    },
    {
     "name": "stdout",
     "output_type": "stream",
     "text": [
      "6.0\n"
     ]
    }
   ],
   "source": [
    "a = int(input('Give the a side of the triangle: '))\n",
    "b = int(input('Give the b side of the triangle: '))\n",
    "c = int(input('Give the c side of the triangle: '))\n",
    "\n",
    "x = a+b+c\n",
    "y = -a+b+c\n",
    "z = a-b+c\n",
    "k = a+b-c\n",
    "\n",
    "t = x*y*z*k\n",
    "\n",
    "A = (1/4)*math.sqrt(t)\n",
    "print(A)"
   ]
  },
  {
   "cell_type": "code",
   "execution_count": null,
   "metadata": {},
   "outputs": [],
   "source": []
  },
  {
   "cell_type": "code",
   "execution_count": null,
   "metadata": {},
   "outputs": [],
   "source": []
  },
  {
   "cell_type": "markdown",
   "metadata": {},
   "source": [
    "Exercise 4: A quadratic equation is an equation of the form: (a*x^2)+(b*x)+c\n",
    "The roots of a quadratic equation are given by the formula: .....\n",
    "Write a program that asks the user to enter values for a,b,c, then prints the solutions of the quadratic equation they define, if they exist. If they do not exist, it should output an appropriate message.\n",
    "** I have considered all options of the discriminant."
   ]
  },
  {
   "cell_type": "code",
   "execution_count": 31,
   "metadata": {},
   "outputs": [
    {
     "name": "stdin",
     "output_type": "stream",
     "text": [
      "Give value a:  1\n",
      "Give value b:  1\n",
      "Give value c:  1\n"
     ]
    },
    {
     "name": "stdout",
     "output_type": "stream",
     "text": [
      "The discriminant is:  -3\n",
      "No real-valued solutions exist.\n"
     ]
    }
   ],
   "source": [
    "a = int(input('Give value a: '))\n",
    "b = int(input('Give value b: '))\n",
    "c = int(input('Give value c: '))\n",
    "\n",
    "d = (b**2)-(4*a*c)\n",
    "\n",
    "if d>0:\n",
    "    print('The discriminant is: ',d)\n",
    "    x1 = (-b+math.sqrt(d))/(2*a)\n",
    "    x2 = (-b-math.sqrt(d))/(2*a)\n",
    "    print('The first solution is: ',x1)\n",
    "    print('The second solution is: ',x2)\n",
    "elif d<0:\n",
    "    print('The discriminant is: ',d)\n",
    "    print('No real-valued solutions exist.')\n",
    "elif d == 0:\n",
    "    print('The discriminant is: ',d)\n",
    "    x = (-b)/(2*a)\n",
    "    print('There is only one solution, x is: ',x)"
   ]
  },
  {
   "cell_type": "code",
   "execution_count": null,
   "metadata": {},
   "outputs": [],
   "source": []
  },
  {
   "cell_type": "code",
   "execution_count": null,
   "metadata": {},
   "outputs": [],
   "source": []
  },
  {
   "cell_type": "markdown",
   "metadata": {},
   "source": [
    "Exercise 5: Write a program that calculates the first five terms of the harmonic sequence, that is, the numbers: .... "
   ]
  },
  {
   "cell_type": "code",
   "execution_count": 59,
   "metadata": {},
   "outputs": [
    {
     "name": "stdin",
     "output_type": "stream",
     "text": [
      "Give a number:  5\n"
     ]
    },
    {
     "name": "stdout",
     "output_type": "stream",
     "text": [
      "1.0\n",
      "1.5\n",
      "1.8333333333333333\n",
      "2.083333333333333\n",
      "2.283333333333333\n"
     ]
    }
   ],
   "source": [
    "n = int(input('Give a number: '))\n",
    "total = 0.0\n",
    "\n",
    "for i in range(1,n+1):\n",
    "    total += 1/i\n",
    "    print(total) # If print is located in this position then the program will show us \n",
    "                 # all the calculations that the program does \n",
    "#print(total) but if it is located here the program will show us only the final calculation"
   ]
  },
  {
   "cell_type": "code",
   "execution_count": null,
   "metadata": {},
   "outputs": [],
   "source": []
  },
  {
   "cell_type": "code",
   "execution_count": null,
   "metadata": {},
   "outputs": [],
   "source": []
  },
  {
   "cell_type": "markdown",
   "metadata": {},
   "source": [
    "Exercise 6: The triangle or triangular numbers are given by the following formula:....\n",
    "Write a program that asks the user the number of triangular numbers to produce, then prints them out:"
   ]
  },
  {
   "cell_type": "code",
   "execution_count": 64,
   "metadata": {},
   "outputs": [
    {
     "name": "stdin",
     "output_type": "stream",
     "text": [
      "Enter the number of triangle numbers:  6\n"
     ]
    },
    {
     "name": "stdout",
     "output_type": "stream",
     "text": [
      "1.0\n",
      "3.0\n",
      "6.0\n",
      "10.0\n",
      "15.0\n",
      "21.0\n"
     ]
    }
   ],
   "source": [
    "n = int(input('Enter the number of triangle numbers: '))\n",
    "\n",
    "for i in range(1,n+1):\n",
    "    T = (i*(i+1))/2\n",
    "    print(T)"
   ]
  },
  {
   "cell_type": "code",
   "execution_count": null,
   "metadata": {},
   "outputs": [],
   "source": []
  },
  {
   "cell_type": "code",
   "execution_count": null,
   "metadata": {},
   "outputs": [],
   "source": []
  },
  {
   "cell_type": "markdown",
   "metadata": {},
   "source": [
    "Exercise 7: The pronic numbers are those that are the product of two consecutive integers, so that they have the form n(n+1).\n",
    "Write a program that asks the user the number of pronic numbers to output, then goes on and print them"
   ]
  },
  {
   "cell_type": "code",
   "execution_count": 72,
   "metadata": {},
   "outputs": [
    {
     "name": "stdin",
     "output_type": "stream",
     "text": [
      "Enter number of pronic numbers:  10\n"
     ]
    },
    {
     "name": "stdout",
     "output_type": "stream",
     "text": [
      "2 6 12 20 30 42 56 72 90 110 "
     ]
    }
   ],
   "source": [
    "n = int(input('Enter number of pronic numbers: '))\n",
    "\n",
    "for i in range(1,n+1):\n",
    "    x = i*(i+1)\n",
    "    print(x, end = ' ')"
   ]
  },
  {
   "cell_type": "code",
   "execution_count": null,
   "metadata": {},
   "outputs": [],
   "source": []
  }
 ],
 "metadata": {
  "kernelspec": {
   "display_name": "Python 3",
   "language": "python",
   "name": "python3"
  },
  "language_info": {
   "codemirror_mode": {
    "name": "ipython",
    "version": 3
   },
   "file_extension": ".py",
   "mimetype": "text/x-python",
   "name": "python",
   "nbconvert_exporter": "python",
   "pygments_lexer": "ipython3",
   "version": "3.7.4"
  }
 },
 "nbformat": 4,
 "nbformat_minor": 4
}
