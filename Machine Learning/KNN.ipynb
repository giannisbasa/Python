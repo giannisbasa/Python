{
 "cells": [
  {
   "cell_type": "markdown",
   "metadata": {},
   "source": [
    "#### Import Libraries"
   ]
  },
  {
   "cell_type": "code",
   "execution_count": 1,
   "metadata": {},
   "outputs": [],
   "source": [
    "import numpy as np\n",
    "import pandas as pd\n",
    "import matplotlib.pyplot as plt\n",
    "from sklearn.datasets import load_breast_cancer\n",
    "from sklearn.metrics import accuracy_score, confusion_matrix\n",
    "from sklearn.neighbors import KNeighborsClassifier\n",
    "from sklearn.model_selection import train_test_split\n",
    "import seaborn as sns\n",
    "sns.set() # To switch to seaborn defaults, simply call the set() function.\n",
    "from sklearn.preprocessing import StandardScaler\n",
    "import math\n",
    "import warnings\n",
    "warnings.filterwarnings('ignore')"
   ]
  },
  {
   "cell_type": "code",
   "execution_count": 2,
   "metadata": {},
   "outputs": [],
   "source": [
    "# Loading the data (features and labels)\n",
    "data = load_breast_cancer()\n",
    "dataset = pd.DataFrame(data.data, columns = data.feature_names)\n",
    "x = dataset[['mean area','mean compactness']]\n",
    "#y = data.target\n",
    "#y = np.reshape(y,(569,1))\n",
    "\n",
    "y = pd.Categorical.from_codes(data.target, data.target_names)\n",
    "y = pd.get_dummies(y, drop_first=True)\n",
    "\n",
    "final = np.concatenate([x,y], axis = 1)\n",
    "final = pd.DataFrame(final, columns=['mean area','mean compactness','benign'])"
   ]
  },
  {
   "cell_type": "code",
   "execution_count": 3,
   "metadata": {},
   "outputs": [
    {
     "data": {
      "text/html": [
       "<div>\n",
       "<style scoped>\n",
       "    .dataframe tbody tr th:only-of-type {\n",
       "        vertical-align: middle;\n",
       "    }\n",
       "\n",
       "    .dataframe tbody tr th {\n",
       "        vertical-align: top;\n",
       "    }\n",
       "\n",
       "    .dataframe thead th {\n",
       "        text-align: right;\n",
       "    }\n",
       "</style>\n",
       "<table border=\"1\" class=\"dataframe\">\n",
       "  <thead>\n",
       "    <tr style=\"text-align: right;\">\n",
       "      <th></th>\n",
       "      <th>mean area</th>\n",
       "      <th>mean compactness</th>\n",
       "      <th>benign</th>\n",
       "    </tr>\n",
       "  </thead>\n",
       "  <tbody>\n",
       "    <tr>\n",
       "      <td>0</td>\n",
       "      <td>1001.0</td>\n",
       "      <td>0.27760</td>\n",
       "      <td>0.0</td>\n",
       "    </tr>\n",
       "    <tr>\n",
       "      <td>1</td>\n",
       "      <td>1326.0</td>\n",
       "      <td>0.07864</td>\n",
       "      <td>0.0</td>\n",
       "    </tr>\n",
       "    <tr>\n",
       "      <td>2</td>\n",
       "      <td>1203.0</td>\n",
       "      <td>0.15990</td>\n",
       "      <td>0.0</td>\n",
       "    </tr>\n",
       "    <tr>\n",
       "      <td>3</td>\n",
       "      <td>386.1</td>\n",
       "      <td>0.28390</td>\n",
       "      <td>0.0</td>\n",
       "    </tr>\n",
       "    <tr>\n",
       "      <td>4</td>\n",
       "      <td>1297.0</td>\n",
       "      <td>0.13280</td>\n",
       "      <td>0.0</td>\n",
       "    </tr>\n",
       "    <tr>\n",
       "      <td>...</td>\n",
       "      <td>...</td>\n",
       "      <td>...</td>\n",
       "      <td>...</td>\n",
       "    </tr>\n",
       "    <tr>\n",
       "      <td>564</td>\n",
       "      <td>1479.0</td>\n",
       "      <td>0.11590</td>\n",
       "      <td>0.0</td>\n",
       "    </tr>\n",
       "    <tr>\n",
       "      <td>565</td>\n",
       "      <td>1261.0</td>\n",
       "      <td>0.10340</td>\n",
       "      <td>0.0</td>\n",
       "    </tr>\n",
       "    <tr>\n",
       "      <td>566</td>\n",
       "      <td>858.1</td>\n",
       "      <td>0.10230</td>\n",
       "      <td>0.0</td>\n",
       "    </tr>\n",
       "    <tr>\n",
       "      <td>567</td>\n",
       "      <td>1265.0</td>\n",
       "      <td>0.27700</td>\n",
       "      <td>0.0</td>\n",
       "    </tr>\n",
       "    <tr>\n",
       "      <td>568</td>\n",
       "      <td>181.0</td>\n",
       "      <td>0.04362</td>\n",
       "      <td>1.0</td>\n",
       "    </tr>\n",
       "  </tbody>\n",
       "</table>\n",
       "<p>569 rows × 3 columns</p>\n",
       "</div>"
      ],
      "text/plain": [
       "     mean area  mean compactness  benign\n",
       "0       1001.0           0.27760     0.0\n",
       "1       1326.0           0.07864     0.0\n",
       "2       1203.0           0.15990     0.0\n",
       "3        386.1           0.28390     0.0\n",
       "4       1297.0           0.13280     0.0\n",
       "..         ...               ...     ...\n",
       "564     1479.0           0.11590     0.0\n",
       "565     1261.0           0.10340     0.0\n",
       "566      858.1           0.10230     0.0\n",
       "567     1265.0           0.27700     0.0\n",
       "568      181.0           0.04362     1.0\n",
       "\n",
       "[569 rows x 3 columns]"
      ]
     },
     "execution_count": 3,
     "metadata": {},
     "output_type": "execute_result"
    }
   ],
   "source": [
    "final"
   ]
  },
  {
   "cell_type": "code",
   "execution_count": 4,
   "metadata": {},
   "outputs": [],
   "source": [
    "# Splitting 25% of the data into train and the rest to the test sets.\n",
    "xtrain, xtest, ytrain, ytest = train_test_split(x, y, test_size=.25, random_state=0)"
   ]
  },
  {
   "cell_type": "code",
   "execution_count": 5,
   "metadata": {},
   "outputs": [
    {
     "data": {
      "text/plain": [
       "KNeighborsClassifier(algorithm='auto', leaf_size=30, metric='euclidean',\n",
       "                     metric_params=None, n_jobs=None, n_neighbors=3, p=2,\n",
       "                     weights='uniform')"
      ]
     },
     "execution_count": 5,
     "metadata": {},
     "output_type": "execute_result"
    }
   ],
   "source": [
    "# Compiling the KNN model \n",
    "knn = KNeighborsClassifier(n_neighbors=3, metric='euclidean')\n",
    "knn.fit(xtrain, ytrain)"
   ]
  },
  {
   "cell_type": "code",
   "execution_count": 6,
   "metadata": {},
   "outputs": [
    {
     "name": "stdout",
     "output_type": "stream",
     "text": [
      "Prediction accuracy score is:  90.20979020979021\n"
     ]
    }
   ],
   "source": [
    "# Predicting the unseen data and quantify the model performance:\n",
    "ypred = knn.predict(xtest)\n",
    "print('Prediction accuracy score is: ', accuracy_score(ytest, ypred)*100)"
   ]
  },
  {
   "cell_type": "markdown",
   "metadata": {},
   "source": [
    "#### Visualization of the KNN Performance:"
   ]
  },
  {
   "cell_type": "code",
   "execution_count": 7,
   "metadata": {},
   "outputs": [
    {
     "data": {
      "text/plain": [
       "<matplotlib.axes._subplots.AxesSubplot at 0x1dc0c4d5d88>"
      ]
     },
     "execution_count": 7,
     "metadata": {},
     "output_type": "execute_result"
    },
    {
     "data": {
      "image/png": "[encoded data removed]",
      "text/plain": [
       "<Figure size 432x288 with 1 Axes>"
      ]
     },
     "metadata": {
      "needs_background": "light"
     },
     "output_type": "display_data"
    }
   ],
   "source": [
    "# Scatter plot of the prediction\n",
    "sns.scatterplot(\n",
    "x = 'mean area',\n",
    "y = 'mean compactness',\n",
    "hue = 'benign',\n",
    "data = xtest.join(ytest, how = 'outer'))"
   ]
  },
  {
   "cell_type": "code",
   "execution_count": 8,
   "metadata": {},
   "outputs": [
    {
     "data": {
      "image/png": "[encoded data removed]",
      "text/plain": [
       "<Figure size 432x288 with 1 Axes>"
      ]
     },
     "metadata": {
      "needs_background": "light"
     },
     "output_type": "display_data"
    }
   ],
   "source": [
    "# Scatter plot of the real data\n",
    "plt.scatter(\n",
    "xtest['mean area'],\n",
    "xtest['mean compactness'],\n",
    "c = ypred,\n",
    "cmap = 'coolwarm',\n",
    "alpha = .7)\n",
    "\n",
    "plt.show()"
   ]
  },
  {
   "cell_type": "markdown",
   "metadata": {},
   "source": [
    "#### Changing the value of nearest neighbors and find out its effect!\n",
    "\n",
    "To better understand how the value of nearest neighbor (K) affect the performance and generalization power of the KNN model, we are going to train different KNN models with different K values."
   ]
  },
  {
   "cell_type": "code",
   "execution_count": 9,
   "metadata": {},
   "outputs": [
    {
     "name": "stdout",
     "output_type": "stream",
     "text": [
      "Prediction performance of KNN with K of 1 is 0.8741258741258742\n",
      "Prediction performance of KNN with K of 3 is 0.9020979020979021\n",
      "Prediction performance of KNN with K of 5 is 0.9090909090909091\n",
      "Prediction performance of KNN with K of 7 is 0.9020979020979021\n",
      "Prediction performance of KNN with K of 9 is 0.9020979020979021\n",
      "Prediction performance of KNN with K of 11 is 0.9020979020979021\n",
      "Prediction performance of KNN with K of 15 is 0.916083916083916\n",
      "Prediction performance of KNN with K of 17 is 0.9230769230769231\n"
     ]
    }
   ],
   "source": [
    "k_val = [1,3,5,7,9,11,15,17]\n",
    "performance = []\n",
    "\n",
    "for i in k_val:\n",
    "    knn = KNeighborsClassifier(n_neighbors=i, metric='euclidean')\n",
    "    knn.fit(xtrain, ytrain)\n",
    "    ypred = knn.predict(xtest)\n",
    "    #performance.append(accuracy_score(ytest,ypred)) \n",
    "    performance = accuracy_score(ytest, ypred)\n",
    "    print('Prediction performance of KNN with K of {} is {}'.format(i, performance))"
   ]
  },
  {
   "cell_type": "markdown",
   "metadata": {},
   "source": [
    "#### Another Example:\n",
    "\n",
    "We are going to use a real clinical data set (Data1.csv). This data set contain 216 subjects each of which presented with 100 quantified values (clinical Proteomics). Out of all the subjects, 121 are diagnosed as ovarian cancer and 95 are healthy subjects. Therefore, it is binary classification and the class labels are set as -1 and +1."
   ]
  },
  {
   "cell_type": "code",
   "execution_count": 10,
   "metadata": {},
   "outputs": [
    {
     "data": {
      "text/html": [
       "<div>\n",
       "<style scoped>\n",
       "    .dataframe tbody tr th:only-of-type {\n",
       "        vertical-align: middle;\n",
       "    }\n",
       "\n",
       "    .dataframe tbody tr th {\n",
       "        vertical-align: top;\n",
       "    }\n",
       "\n",
       "    .dataframe thead th {\n",
       "        text-align: right;\n",
       "    }\n",
       "</style>\n",
       "<table border=\"1\" class=\"dataframe\">\n",
       "  <thead>\n",
       "    <tr style=\"text-align: right;\">\n",
       "      <th></th>\n",
       "      <th>0</th>\n",
       "      <th>1</th>\n",
       "      <th>2</th>\n",
       "      <th>3</th>\n",
       "      <th>4</th>\n",
       "      <th>5</th>\n",
       "      <th>6</th>\n",
       "      <th>7</th>\n",
       "      <th>8</th>\n",
       "      <th>9</th>\n",
       "      <th>...</th>\n",
       "      <th>91</th>\n",
       "      <th>92</th>\n",
       "      <th>93</th>\n",
       "      <th>94</th>\n",
       "      <th>95</th>\n",
       "      <th>96</th>\n",
       "      <th>97</th>\n",
       "      <th>98</th>\n",
       "      <th>99</th>\n",
       "      <th>100</th>\n",
       "    </tr>\n",
       "  </thead>\n",
       "  <tbody>\n",
       "    <tr>\n",
       "      <td>0</td>\n",
       "      <td>0.518304</td>\n",
       "      <td>0.362863</td>\n",
       "      <td>0.215489</td>\n",
       "      <td>0.587237</td>\n",
       "      <td>0.133816</td>\n",
       "      <td>0.311977</td>\n",
       "      <td>0.454623</td>\n",
       "      <td>0.162456</td>\n",
       "      <td>1.283642</td>\n",
       "      <td>1.503637</td>\n",
       "      <td>...</td>\n",
       "      <td>0.347514</td>\n",
       "      <td>0.101693</td>\n",
       "      <td>0.813038</td>\n",
       "      <td>0.058370</td>\n",
       "      <td>0.104120</td>\n",
       "      <td>1.839021</td>\n",
       "      <td>0.178631</td>\n",
       "      <td>0.097148</td>\n",
       "      <td>0.084328</td>\n",
       "      <td>-1</td>\n",
       "    </tr>\n",
       "    <tr>\n",
       "      <td>1</td>\n",
       "      <td>0.153825</td>\n",
       "      <td>0.174490</td>\n",
       "      <td>0.176894</td>\n",
       "      <td>0.173388</td>\n",
       "      <td>0.070989</td>\n",
       "      <td>0.330149</td>\n",
       "      <td>0.429088</td>\n",
       "      <td>0.186806</td>\n",
       "      <td>0.957493</td>\n",
       "      <td>1.177661</td>\n",
       "      <td>...</td>\n",
       "      <td>0.734020</td>\n",
       "      <td>0.396678</td>\n",
       "      <td>0.963417</td>\n",
       "      <td>0.146514</td>\n",
       "      <td>0.051885</td>\n",
       "      <td>1.362960</td>\n",
       "      <td>0.052934</td>\n",
       "      <td>0.094929</td>\n",
       "      <td>0.048630</td>\n",
       "      <td>1</td>\n",
       "    </tr>\n",
       "    <tr>\n",
       "      <td>2</td>\n",
       "      <td>0.593878</td>\n",
       "      <td>0.556924</td>\n",
       "      <td>0.495074</td>\n",
       "      <td>0.641608</td>\n",
       "      <td>0.389146</td>\n",
       "      <td>0.523559</td>\n",
       "      <td>0.670289</td>\n",
       "      <td>0.358395</td>\n",
       "      <td>2.039803</td>\n",
       "      <td>2.393783</td>\n",
       "      <td>...</td>\n",
       "      <td>0.057996</td>\n",
       "      <td>0.048082</td>\n",
       "      <td>1.386617</td>\n",
       "      <td>0.057553</td>\n",
       "      <td>0.204713</td>\n",
       "      <td>0.404772</td>\n",
       "      <td>0.049570</td>\n",
       "      <td>0.215242</td>\n",
       "      <td>0.184210</td>\n",
       "      <td>-1</td>\n",
       "    </tr>\n",
       "    <tr>\n",
       "      <td>3</td>\n",
       "      <td>0.212857</td>\n",
       "      <td>0.239148</td>\n",
       "      <td>0.122009</td>\n",
       "      <td>0.200013</td>\n",
       "      <td>-0.013684</td>\n",
       "      <td>0.210191</td>\n",
       "      <td>0.300114</td>\n",
       "      <td>0.119804</td>\n",
       "      <td>0.813005</td>\n",
       "      <td>0.967250</td>\n",
       "      <td>...</td>\n",
       "      <td>1.286684</td>\n",
       "      <td>0.315834</td>\n",
       "      <td>0.506502</td>\n",
       "      <td>0.281564</td>\n",
       "      <td>0.087943</td>\n",
       "      <td>3.693671</td>\n",
       "      <td>0.229578</td>\n",
       "      <td>0.057727</td>\n",
       "      <td>0.063700</td>\n",
       "      <td>1</td>\n",
       "    </tr>\n",
       "    <tr>\n",
       "      <td>4</td>\n",
       "      <td>0.727784</td>\n",
       "      <td>0.654825</td>\n",
       "      <td>0.554591</td>\n",
       "      <td>0.794625</td>\n",
       "      <td>0.481807</td>\n",
       "      <td>0.972329</td>\n",
       "      <td>1.269925</td>\n",
       "      <td>0.588862</td>\n",
       "      <td>3.296050</td>\n",
       "      <td>3.951254</td>\n",
       "      <td>...</td>\n",
       "      <td>0.043550</td>\n",
       "      <td>0.055165</td>\n",
       "      <td>1.753717</td>\n",
       "      <td>0.038483</td>\n",
       "      <td>0.295754</td>\n",
       "      <td>0.156519</td>\n",
       "      <td>0.032730</td>\n",
       "      <td>0.563517</td>\n",
       "      <td>0.285718</td>\n",
       "      <td>-1</td>\n",
       "    </tr>\n",
       "  </tbody>\n",
       "</table>\n",
       "<p>5 rows × 101 columns</p>\n",
       "</div>"
      ],
      "text/plain": [
       "        0         1         2         3         4         5         6    \\\n",
       "0  0.518304  0.362863  0.215489  0.587237  0.133816  0.311977  0.454623   \n",
       "1  0.153825  0.174490  0.176894  0.173388  0.070989  0.330149  0.429088   \n",
       "2  0.593878  0.556924  0.495074  0.641608  0.389146  0.523559  0.670289   \n",
       "3  0.212857  0.239148  0.122009  0.200013 -0.013684  0.210191  0.300114   \n",
       "4  0.727784  0.654825  0.554591  0.794625  0.481807  0.972329  1.269925   \n",
       "\n",
       "        7         8         9    ...       91        92        93        94   \\\n",
       "0  0.162456  1.283642  1.503637  ...  0.347514  0.101693  0.813038  0.058370   \n",
       "1  0.186806  0.957493  1.177661  ...  0.734020  0.396678  0.963417  0.146514   \n",
       "2  0.358395  2.039803  2.393783  ...  0.057996  0.048082  1.386617  0.057553   \n",
       "3  0.119804  0.813005  0.967250  ...  1.286684  0.315834  0.506502  0.281564   \n",
       "4  0.588862  3.296050  3.951254  ...  0.043550  0.055165  1.753717  0.038483   \n",
       "\n",
       "        95        96        97        98        99   100  \n",
       "0  0.104120  1.839021  0.178631  0.097148  0.084328   -1  \n",
       "1  0.051885  1.362960  0.052934  0.094929  0.048630    1  \n",
       "2  0.204713  0.404772  0.049570  0.215242  0.184210   -1  \n",
       "3  0.087943  3.693671  0.229578  0.057727  0.063700    1  \n",
       "4  0.295754  0.156519  0.032730  0.563517  0.285718   -1  \n",
       "\n",
       "[5 rows x 101 columns]"
      ]
     },
     "execution_count": 10,
     "metadata": {},
     "output_type": "execute_result"
    }
   ],
   "source": [
    "df = pd.read_csv('Data1.csv', header = None)\n",
    "df.head()"
   ]
  },
  {
   "cell_type": "code",
   "execution_count": 11,
   "metadata": {},
   "outputs": [
    {
     "name": "stdout",
     "output_type": "stream",
     "text": [
      "(216, 101)\n"
     ]
    },
    {
     "data": {
      "text/html": [
       "<div>\n",
       "<style scoped>\n",
       "    .dataframe tbody tr th:only-of-type {\n",
       "        vertical-align: middle;\n",
       "    }\n",
       "\n",
       "    .dataframe tbody tr th {\n",
       "        vertical-align: top;\n",
       "    }\n",
       "\n",
       "    .dataframe thead th {\n",
       "        text-align: right;\n",
       "    }\n",
       "</style>\n",
       "<table border=\"1\" class=\"dataframe\">\n",
       "  <thead>\n",
       "    <tr style=\"text-align: right;\">\n",
       "      <th></th>\n",
       "      <th>0</th>\n",
       "      <th>1</th>\n",
       "      <th>2</th>\n",
       "      <th>3</th>\n",
       "      <th>4</th>\n",
       "      <th>5</th>\n",
       "      <th>6</th>\n",
       "      <th>7</th>\n",
       "      <th>8</th>\n",
       "      <th>9</th>\n",
       "      <th>...</th>\n",
       "      <th>91</th>\n",
       "      <th>92</th>\n",
       "      <th>93</th>\n",
       "      <th>94</th>\n",
       "      <th>95</th>\n",
       "      <th>96</th>\n",
       "      <th>97</th>\n",
       "      <th>98</th>\n",
       "      <th>99</th>\n",
       "      <th>100</th>\n",
       "    </tr>\n",
       "  </thead>\n",
       "  <tbody>\n",
       "    <tr>\n",
       "      <td>count</td>\n",
       "      <td>216.000000</td>\n",
       "      <td>216.000000</td>\n",
       "      <td>216.000000</td>\n",
       "      <td>216.000000</td>\n",
       "      <td>216.000000</td>\n",
       "      <td>216.000000</td>\n",
       "      <td>216.000000</td>\n",
       "      <td>216.000000</td>\n",
       "      <td>216.000000</td>\n",
       "      <td>216.000000</td>\n",
       "      <td>...</td>\n",
       "      <td>216.000000</td>\n",
       "      <td>216.000000</td>\n",
       "      <td>216.000000</td>\n",
       "      <td>216.000000</td>\n",
       "      <td>216.000000</td>\n",
       "      <td>216.000000</td>\n",
       "      <td>216.000000</td>\n",
       "      <td>216.000000</td>\n",
       "      <td>216.000000</td>\n",
       "      <td>216.000000</td>\n",
       "    </tr>\n",
       "    <tr>\n",
       "      <td>mean</td>\n",
       "      <td>0.495942</td>\n",
       "      <td>0.407847</td>\n",
       "      <td>0.317057</td>\n",
       "      <td>0.564301</td>\n",
       "      <td>0.235266</td>\n",
       "      <td>0.422826</td>\n",
       "      <td>0.547041</td>\n",
       "      <td>0.301258</td>\n",
       "      <td>1.567330</td>\n",
       "      <td>1.841413</td>\n",
       "      <td>...</td>\n",
       "      <td>0.542685</td>\n",
       "      <td>0.178083</td>\n",
       "      <td>1.059568</td>\n",
       "      <td>0.115731</td>\n",
       "      <td>0.139606</td>\n",
       "      <td>1.348066</td>\n",
       "      <td>0.133367</td>\n",
       "      <td>0.186207</td>\n",
       "      <td>0.187599</td>\n",
       "      <td>0.120370</td>\n",
       "    </tr>\n",
       "    <tr>\n",
       "      <td>std</td>\n",
       "      <td>0.190439</td>\n",
       "      <td>0.172613</td>\n",
       "      <td>0.148473</td>\n",
       "      <td>0.198416</td>\n",
       "      <td>0.127629</td>\n",
       "      <td>0.189102</td>\n",
       "      <td>0.243215</td>\n",
       "      <td>0.139054</td>\n",
       "      <td>0.670407</td>\n",
       "      <td>0.777485</td>\n",
       "      <td>...</td>\n",
       "      <td>0.613235</td>\n",
       "      <td>0.165384</td>\n",
       "      <td>0.444431</td>\n",
       "      <td>0.068474</td>\n",
       "      <td>0.056948</td>\n",
       "      <td>0.858016</td>\n",
       "      <td>0.079016</td>\n",
       "      <td>0.105158</td>\n",
       "      <td>0.099025</td>\n",
       "      <td>0.995035</td>\n",
       "    </tr>\n",
       "    <tr>\n",
       "      <td>min</td>\n",
       "      <td>0.067027</td>\n",
       "      <td>0.064443</td>\n",
       "      <td>-0.017628</td>\n",
       "      <td>0.090615</td>\n",
       "      <td>-0.077556</td>\n",
       "      <td>0.056703</td>\n",
       "      <td>0.075666</td>\n",
       "      <td>-0.011657</td>\n",
       "      <td>0.276156</td>\n",
       "      <td>0.344528</td>\n",
       "      <td>...</td>\n",
       "      <td>0.015783</td>\n",
       "      <td>-0.016119</td>\n",
       "      <td>0.145160</td>\n",
       "      <td>0.007667</td>\n",
       "      <td>0.017725</td>\n",
       "      <td>0.097251</td>\n",
       "      <td>-0.022007</td>\n",
       "      <td>0.008624</td>\n",
       "      <td>-0.049841</td>\n",
       "      <td>-1.000000</td>\n",
       "    </tr>\n",
       "    <tr>\n",
       "      <td>25%</td>\n",
       "      <td>0.348899</td>\n",
       "      <td>0.278178</td>\n",
       "      <td>0.194970</td>\n",
       "      <td>0.412666</td>\n",
       "      <td>0.126223</td>\n",
       "      <td>0.267399</td>\n",
       "      <td>0.343204</td>\n",
       "      <td>0.191445</td>\n",
       "      <td>1.065823</td>\n",
       "      <td>1.244210</td>\n",
       "      <td>...</td>\n",
       "      <td>0.094687</td>\n",
       "      <td>0.049238</td>\n",
       "      <td>0.733665</td>\n",
       "      <td>0.061862</td>\n",
       "      <td>0.099408</td>\n",
       "      <td>0.680699</td>\n",
       "      <td>0.072372</td>\n",
       "      <td>0.103478</td>\n",
       "      <td>0.110770</td>\n",
       "      <td>-1.000000</td>\n",
       "    </tr>\n",
       "    <tr>\n",
       "      <td>50%</td>\n",
       "      <td>0.487457</td>\n",
       "      <td>0.394124</td>\n",
       "      <td>0.313276</td>\n",
       "      <td>0.573940</td>\n",
       "      <td>0.224877</td>\n",
       "      <td>0.429273</td>\n",
       "      <td>0.546402</td>\n",
       "      <td>0.292750</td>\n",
       "      <td>1.535861</td>\n",
       "      <td>1.807276</td>\n",
       "      <td>...</td>\n",
       "      <td>0.303470</td>\n",
       "      <td>0.115019</td>\n",
       "      <td>1.042124</td>\n",
       "      <td>0.105447</td>\n",
       "      <td>0.130464</td>\n",
       "      <td>1.256514</td>\n",
       "      <td>0.118307</td>\n",
       "      <td>0.170441</td>\n",
       "      <td>0.178351</td>\n",
       "      <td>1.000000</td>\n",
       "    </tr>\n",
       "    <tr>\n",
       "      <td>75%</td>\n",
       "      <td>0.630714</td>\n",
       "      <td>0.538824</td>\n",
       "      <td>0.426234</td>\n",
       "      <td>0.701706</td>\n",
       "      <td>0.330112</td>\n",
       "      <td>0.553992</td>\n",
       "      <td>0.718701</td>\n",
       "      <td>0.399565</td>\n",
       "      <td>2.017393</td>\n",
       "      <td>2.394380</td>\n",
       "      <td>...</td>\n",
       "      <td>0.797473</td>\n",
       "      <td>0.259424</td>\n",
       "      <td>1.409359</td>\n",
       "      <td>0.158389</td>\n",
       "      <td>0.181445</td>\n",
       "      <td>1.790585</td>\n",
       "      <td>0.195699</td>\n",
       "      <td>0.256414</td>\n",
       "      <td>0.259957</td>\n",
       "      <td>1.000000</td>\n",
       "    </tr>\n",
       "    <tr>\n",
       "      <td>max</td>\n",
       "      <td>0.965799</td>\n",
       "      <td>0.818776</td>\n",
       "      <td>0.674741</td>\n",
       "      <td>1.058306</td>\n",
       "      <td>0.545024</td>\n",
       "      <td>0.972329</td>\n",
       "      <td>1.269925</td>\n",
       "      <td>0.660917</td>\n",
       "      <td>3.563053</td>\n",
       "      <td>4.006428</td>\n",
       "      <td>...</td>\n",
       "      <td>3.921007</td>\n",
       "      <td>0.962498</td>\n",
       "      <td>2.030632</td>\n",
       "      <td>0.340026</td>\n",
       "      <td>0.300613</td>\n",
       "      <td>4.248658</td>\n",
       "      <td>0.348702</td>\n",
       "      <td>0.594699</td>\n",
       "      <td>0.440343</td>\n",
       "      <td>1.000000</td>\n",
       "    </tr>\n",
       "  </tbody>\n",
       "</table>\n",
       "<p>8 rows × 101 columns</p>\n",
       "</div>"
      ],
      "text/plain": [
       "              0           1           2           3           4           5    \\\n",
       "count  216.000000  216.000000  216.000000  216.000000  216.000000  216.000000   \n",
       "mean     0.495942    0.407847    0.317057    0.564301    0.235266    0.422826   \n",
       "std      0.190439    0.172613    0.148473    0.198416    0.127629    0.189102   \n",
       "min      0.067027    0.064443   -0.017628    0.090615   -0.077556    0.056703   \n",
       "25%      0.348899    0.278178    0.194970    0.412666    0.126223    0.267399   \n",
       "50%      0.487457    0.394124    0.313276    0.573940    0.224877    0.429273   \n",
       "75%      0.630714    0.538824    0.426234    0.701706    0.330112    0.553992   \n",
       "max      0.965799    0.818776    0.674741    1.058306    0.545024    0.972329   \n",
       "\n",
       "              6           7           8           9    ...         91   \\\n",
       "count  216.000000  216.000000  216.000000  216.000000  ...  216.000000   \n",
       "mean     0.547041    0.301258    1.567330    1.841413  ...    0.542685   \n",
       "std      0.243215    0.139054    0.670407    0.777485  ...    0.613235   \n",
       "min      0.075666   -0.011657    0.276156    0.344528  ...    0.015783   \n",
       "25%      0.343204    0.191445    1.065823    1.244210  ...    0.094687   \n",
       "50%      0.546402    0.292750    1.535861    1.807276  ...    0.303470   \n",
       "75%      0.718701    0.399565    2.017393    2.394380  ...    0.797473   \n",
       "max      1.269925    0.660917    3.563053    4.006428  ...    3.921007   \n",
       "\n",
       "              92          93          94          95          96          97   \\\n",
       "count  216.000000  216.000000  216.000000  216.000000  216.000000  216.000000   \n",
       "mean     0.178083    1.059568    0.115731    0.139606    1.348066    0.133367   \n",
       "std      0.165384    0.444431    0.068474    0.056948    0.858016    0.079016   \n",
       "min     -0.016119    0.145160    0.007667    0.017725    0.097251   -0.022007   \n",
       "25%      0.049238    0.733665    0.061862    0.099408    0.680699    0.072372   \n",
       "50%      0.115019    1.042124    0.105447    0.130464    1.256514    0.118307   \n",
       "75%      0.259424    1.409359    0.158389    0.181445    1.790585    0.195699   \n",
       "max      0.962498    2.030632    0.340026    0.300613    4.248658    0.348702   \n",
       "\n",
       "              98          99          100  \n",
       "count  216.000000  216.000000  216.000000  \n",
       "mean     0.186207    0.187599    0.120370  \n",
       "std      0.105158    0.099025    0.995035  \n",
       "min      0.008624   -0.049841   -1.000000  \n",
       "25%      0.103478    0.110770   -1.000000  \n",
       "50%      0.170441    0.178351    1.000000  \n",
       "75%      0.256414    0.259957    1.000000  \n",
       "max      0.594699    0.440343    1.000000  \n",
       "\n",
       "[8 rows x 101 columns]"
      ]
     },
     "execution_count": 11,
     "metadata": {},
     "output_type": "execute_result"
    }
   ],
   "source": [
    "print(df.shape)\n",
    "df.describe()"
   ]
  },
  {
   "cell_type": "code",
   "execution_count": 12,
   "metadata": {},
   "outputs": [],
   "source": [
    "# Set the first 100 columns as input data\n",
    "x = df.iloc[:, :-1]\n",
    "\n",
    "# Set the last column as targets\n",
    "y = df.iloc[:, -1]\n",
    "\n",
    "# spliting the data into train and test sets randomly.\n",
    "xtrain, xtest, ytrain, ytest = train_test_split(x,y, random_state=1, test_size=.2)"
   ]
  },
  {
   "cell_type": "code",
   "execution_count": 13,
   "metadata": {},
   "outputs": [
    {
     "name": "stdout",
     "output_type": "stream",
     "text": [
      "Prediction performance of KNN with K of 1 is 0.9090909090909091\n",
      "Prediction performance of KNN with K of 3 is 0.9318181818181818\n",
      "Prediction performance of KNN with K of 5 is 0.9318181818181818\n",
      "Prediction performance of KNN with K of 7 is 0.9318181818181818\n",
      "Prediction performance of KNN with K of 9 is 0.8636363636363636\n",
      "Prediction performance of KNN with K of 11 is 0.8863636363636364\n",
      "Prediction performance of KNN with K of 13 is 0.8863636363636364\n",
      "Prediction performance of KNN with K of 15 is 0.8636363636363636\n",
      "Prediction performance of KNN with K of 17 is 0.8636363636363636\n"
     ]
    }
   ],
   "source": [
    "k_val = [1,3,5,7,9,11,13,15,17]\n",
    "\n",
    "for i in k_val:\n",
    "    knn = KNeighborsClassifier(n_neighbors=i, metric='euclidean')\n",
    "    knn.fit(xtrain, ytrain)\n",
    "    ypred = knn.predict(xtest)\n",
    "    performance = accuracy_score(ytest, ypred)\n",
    "    print('Prediction performance of KNN with K of {} is {}'.format(i, performance))"
   ]
  },
  {
   "cell_type": "markdown",
   "metadata": {},
   "source": [
    "#### How to improve KNN?\n",
    "\n",
    "For better results, normalizing data on the same scale is highly recommended. Generally, the normalization range considered between 0 and 1. KNN is not suitable for the large dimensional data. In such cases, dimension needs to reduce to improve the performance. Also, handling missing values will help us in improving results."
   ]
  },
  {
   "cell_type": "code",
   "execution_count": 14,
   "metadata": {},
   "outputs": [],
   "source": [
    "standsc = StandardScaler()\n",
    "xtrain = standsc.fit_transform(xtrain)\n",
    "xtest = standsc.transform(xtest)"
   ]
  },
  {
   "cell_type": "code",
   "execution_count": 15,
   "metadata": {},
   "outputs": [
    {
     "name": "stdout",
     "output_type": "stream",
     "text": [
      "Prediction performance of KNN with K of 1 is 0.9318181818181818\n",
      "Prediction performance of KNN with K of 3 is 0.9318181818181818\n",
      "Prediction performance of KNN with K of 5 is 0.9545454545454546\n",
      "Prediction performance of KNN with K of 7 is 0.9545454545454546\n",
      "Prediction performance of KNN with K of 9 is 0.9545454545454546\n",
      "Prediction performance of KNN with K of 11 is 0.9545454545454546\n",
      "Prediction performance of KNN with K of 13 is 0.9772727272727273\n",
      "Prediction performance of KNN with K of 15 is 0.9772727272727273\n",
      "Prediction performance of KNN with K of 17 is 0.9772727272727273\n"
     ]
    }
   ],
   "source": [
    "k_val = [1,3,5,7,9,11,13,15,17]\n",
    "\n",
    "for i in k_val:\n",
    "    knn = KNeighborsClassifier(n_neighbors=i, metric='euclidean')\n",
    "    knn.fit(xtrain, ytrain)\n",
    "    ypred = knn.predict(xtest)\n",
    "    performance = accuracy_score(ytest, ypred)\n",
    "    print('Prediction performance of KNN with K of {} is {}'.format(i, performance))"
   ]
  },
  {
   "cell_type": "markdown",
   "metadata": {},
   "source": [
    "#### How to choose the factor k?"
   ]
  },
  {
   "cell_type": "code",
   "execution_count": 16,
   "metadata": {},
   "outputs": [
    {
     "data": {
      "text/plain": [
       "6.6332495807108"
      ]
     },
     "execution_count": 16,
     "metadata": {},
     "output_type": "execute_result"
    }
   ],
   "source": [
    "# Compute the sqrt\n",
    "math.sqrt(len(ytest))"
   ]
  },
  {
   "cell_type": "markdown",
   "metadata": {},
   "source": [
    "Odd value of K is selected to avoid confusion between two classes of data. Computing the best value of K we avoid the for loop that we created above. In this example we can use either 5 or 7. "
   ]
  },
  {
   "cell_type": "code",
   "execution_count": 17,
   "metadata": {},
   "outputs": [
    {
     "data": {
      "text/plain": [
       "array([[20,  1],\n",
       "       [ 0, 23]], dtype=int64)"
      ]
     },
     "execution_count": 17,
     "metadata": {},
     "output_type": "execute_result"
    }
   ],
   "source": [
    "# Evaluate the model\n",
    "cm = confusion_matrix(ytest, ypred)\n",
    "cm"
   ]
  },
  {
   "cell_type": "markdown",
   "metadata": {},
   "source": [
    "The confusion matrix shows us that the algorithm predicted 20 true values and the actual true values are 23. On the other hand there is 1 predicted false value and none actual false value. "
   ]
  }
 ],
 "metadata": {
  "kernelspec": {
   "display_name": "Python 3",
   "language": "python",
   "name": "python3"
  },
  "language_info": {
   "codemirror_mode": {
    "name": "ipython",
    "version": 3
   },
   "file_extension": ".py",
   "mimetype": "text/x-python",
   "name": "python",
   "nbconvert_exporter": "python",
   "pygments_lexer": "ipython3",
   "version": "3.7.4"
  }
 },
 "nbformat": 4,
 "nbformat_minor": 4
}
